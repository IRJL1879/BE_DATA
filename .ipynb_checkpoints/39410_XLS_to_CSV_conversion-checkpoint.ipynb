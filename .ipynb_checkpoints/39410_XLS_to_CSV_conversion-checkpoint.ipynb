{
 "cells": [
  {
   "cell_type": "markdown",
   "metadata": {},
   "source": [
    "## Load data from Workbook\n",
    "\n",
    "Code used to create the provided CSV file (39410_CSVData.csv) FYI.\n",
    "\n",
    "Requires spreadsheets to be added to the workbook with relevant pivot extracted data. The orginial file  (39410_Data_worksheets.xlsx) used for the this code was too large to load into git, but can be provided by other means if required. For illustration of how the data was orginally segregated, please review the data in the Data_Information.xlsx Spreadsheet.\n",
    "\n",
    "To create a different split of the data (if the provided csv output file is not sufficient) please create as many worksheets as needed (from the pivot) as this code should work however the data is split in the spreadsheet.\n",
    "\n",
    "Note that the code took over 11 mins to run on a DELL XPS13 laptop. The CSV loader see second Jupyter notebook (BE_DATA_load_from_csv_file.ipynb) takes 6 seconds!"
   ]
  },
  {
   "cell_type": "code",
   "execution_count": 1,
   "metadata": {
    "collapsed": true
   },
   "outputs": [],
   "source": [
    "# Imports - xlrd to read excel and csv for file i/o. Pandas for reading csv to dataframe, time for timing of some code\n",
    "# need to 'pip install xlrd' if not already in environment\n",
    "\n",
    "import xlrd\n",
    "import csv\n",
    "import pandas as pd\n",
    "import time"
   ]
  },
  {
   "cell_type": "code",
   "execution_count": 2,
   "metadata": {
    "collapsed": false
   },
   "outputs": [
    {
     "name": "stdout",
     "output_type": "stream",
     "text": [
      "--- 663.404999971 seconds ---\n"
     ]
    }
   ],
   "source": [
    "# open spreeadsheet - slow to load timer shows it takes a while (>11 mins)\n",
    "\n",
    "start_time = time.time()\n",
    "book = xlrd.open_workbook('39410_Data_worksheets.xlsx')  \n",
    "print \"--- %s seconds ---\" % (time.time() - start_time)"
   ]
  },
  {
   "cell_type": "code",
   "execution_count": 3,
   "metadata": {
    "collapsed": true
   },
   "outputs": [],
   "source": [
    "# common information needed for input/output:\n",
    "def sheet_info(sheet):\n",
    "    s = sheet.name\n",
    "    r = book.sheet_by_name(s).nrows\n",
    "    return s, r"
   ]
  },
  {
   "cell_type": "code",
   "execution_count": 4,
   "metadata": {
    "collapsed": false
   },
   "outputs": [
    {
     "name": "stdout",
     "output_type": "stream",
     "text": [
      "2015-16(Eng) 194512 194512\n",
      "2014-15(Eng) 193911 388423\n",
      "2013-14(Eng) 192931 581354\n",
      "2012-13(Eng) 194851 776205\n",
      "2011-12(Eng) 201994 978199\n",
      "2010-11(Eng) 203935 1182134\n",
      "2015-16(xEng) 401615 1583749\n",
      "2014-15(xEng) 396447 1980196\n",
      "2013-14(xEng) 389138 2369334\n",
      "2012-13(xEng) 381808 2751142\n",
      "2011-12(xEng) 386409 3137551\n",
      "2010-11(xEng) 379751 3517302\n"
     ]
    }
   ],
   "source": [
    "# check file names and sizes\n",
    "rt = 0 # keep running total for rows in spreadsheets - includes header row\n",
    "for sheet in book.sheets():\n",
    "    s, r = sheet_info(sheet)\n",
    "    if s != 'Notes' and s != 'Data' and s != 'Data Information':\n",
    "        rt = rt + r\n",
    "        print s, r, rt"
   ]
  },
  {
   "cell_type": "code",
   "execution_count": 5,
   "metadata": {
    "collapsed": true
   },
   "outputs": [],
   "source": [
    "# use header row rather than pivot names\n",
    "header = ['Academic Year','First Year Marker','Domicile marker','Country of Domicile', \\\n",
    "          'HE Provider','Level of Study','Subject area','Pricipal Subject (v3.0 and v2.0 combined)', \\\n",
    "          '4 digit JACS subject 2.0 (2010/11-2011/12)','4 digit JACS subject 3.0 (2012/13-2015/16)', \\\n",
    "          'Mode of study','Distance learning marker','HE provider campus','Franchised marker','Age','Sex','Total']"
   ]
  },
  {
   "cell_type": "code",
   "execution_count": 6,
   "metadata": {
    "collapsed": false
   },
   "outputs": [
    {
     "name": "stdout",
     "output_type": "stream",
     "text": [
      "2015-16(Eng) 194512 194512\n",
      "2014-15(Eng) 193911 388423\n",
      "2013-14(Eng) 192931 581354\n",
      "2012-13(Eng) 194851 776205\n",
      "2011-12(Eng) 201994 978199\n",
      "2010-11(Eng) 203935 1182134\n",
      "2015-16(xEng) 401615 1583749\n",
      "2014-15(xEng) 396447 1980196\n",
      "2013-14(xEng) 389138 2369334\n",
      "2012-13(xEng) 381808 2751142\n",
      "2011-12(xEng) 386409 3137551\n",
      "2010-11(xEng) 379751 3517302\n",
      "--- 29.9319999218 seconds ---\n"
     ]
    }
   ],
   "source": [
    "# Output to csv file - fast to output (~30 seconds)\n",
    "start_time = time.time()\n",
    "\n",
    "with open('39410_CSVData.csv', 'wb') as f:\n",
    "    writer = csv.writer(f, delimiter=',')\n",
    "    # write header\n",
    "    writer.writerow(header)\n",
    "    rt = 0\n",
    "    for sheet in book.sheets():\n",
    "        s, r = sheet_info(sheet)\n",
    "        if s != 'Notes' and s != 'Data' and s != 'Data Information':\n",
    "            rt = rt + r            \n",
    "            print s, r, rt\n",
    "            # ignore the header row\n",
    "            for i in range(1,r):\n",
    "                writer.writerow(book.sheet_by_name(s).row_values(i))\n",
    "\n",
    "print \"--- %s seconds ---\" % (time.time() - start_time)"
   ]
  }
 ],
 "metadata": {
  "kernelspec": {
   "display_name": "Python (GA)",
   "language": "python",
   "name": "ga"
  },
  "language_info": {
   "codemirror_mode": {
    "name": "ipython",
    "version": 2
   },
   "file_extension": ".py",
   "mimetype": "text/x-python",
   "name": "python",
   "nbconvert_exporter": "python",
   "pygments_lexer": "ipython2",
   "version": "2.7.13"
  }
 },
 "nbformat": 4,
 "nbformat_minor": 2
}
