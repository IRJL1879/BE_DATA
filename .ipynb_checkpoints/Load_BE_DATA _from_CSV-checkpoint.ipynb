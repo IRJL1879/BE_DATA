{
 "cells": [
  {
   "cell_type": "code",
   "execution_count": null,
   "metadata": {
    "collapsed": true
   },
   "outputs": [],
   "source": [
    "# Load data into a dataframe to check (accurate and fast! shows loading from csv is >100 times faster!)\n",
    "\n",
    "import pandas as pd\n",
    "import time\n",
    "start_time = time.time()\n",
    "\n",
    "# Create DataFrame\n",
    "df= pd.read_csv('39410_Data.csv')\n",
    "\n",
    "# output load data\n",
    "print \"Length: %s , shape: %s , Total: %s \" % (len(df), df.shape, df['Total'].sum())\n",
    "print \"--- %s seconds ---\" % (time.time() - start_time)"
   ]
  }
 ],
 "metadata": {
  "kernelspec": {
   "display_name": "Python (GA)",
   "language": "python",
   "name": "ga"
  },
  "language_info": {
   "codemirror_mode": {
    "name": "ipython",
    "version": 2
   },
   "file_extension": ".py",
   "mimetype": "text/x-python",
   "name": "python",
   "nbconvert_exporter": "python",
   "pygments_lexer": "ipython2",
   "version": "2.7.13"
  }
 },
 "nbformat": 4,
 "nbformat_minor": 2
}
