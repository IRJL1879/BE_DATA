{
 "cells": [
  {
   "cell_type": "markdown",
   "metadata": {},
   "source": [
    "## BE_DATA load from csv file\n",
    "\n",
    "Data load requires 'unzipped' csv file to be placed in local repo before running\n"
   ]
  },
  {
   "cell_type": "code",
   "execution_count": null,
   "metadata": {
    "collapsed": true
   },
   "outputs": [],
   "source": [
    "# Load data into a dataframe to check (accurate and fast! shows loading from csv is >100 times faster!)\n",
    "import pandas as pd\n",
    "import time\n",
    "start_time = time.time()\n",
    "\n",
    "# load into Dataframe\n",
    "df= pd.read_csv('39410_CSVData.csv')\n",
    "\n",
    "#Print load stats\n",
    "print \"Length: %s , shape: %s , Total: %s \" % (len(df), df.shape, df['Total'].sum())\n",
    "print \"--- %s seconds ---\" % (time.time() - start_time)"
   ]
  }
 ],
 "metadata": {
  "kernelspec": {
   "display_name": "Python (GA)",
   "language": "python",
   "name": "ga"
  },
  "language_info": {
   "codemirror_mode": {
    "name": "ipython",
    "version": 2
   },
   "file_extension": ".py",
   "mimetype": "text/x-python",
   "name": "python",
   "nbconvert_exporter": "python",
   "pygments_lexer": "ipython2",
   "version": "2.7.13"
  }
 },
 "nbformat": 4,
 "nbformat_minor": 2
}
